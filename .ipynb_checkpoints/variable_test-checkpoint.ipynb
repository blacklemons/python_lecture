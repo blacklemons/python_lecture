{
 "cells": [
  {
   "cell_type": "code",
   "execution_count": 1,
   "id": "52552e18",
   "metadata": {
    "ExecuteTime": {
     "end_time": "2021-05-24T08:25:50.400314Z",
     "start_time": "2021-05-24T08:25:50.395317Z"
    }
   },
   "outputs": [
    {
     "name": "stdout",
     "output_type": "stream",
     "text": [
      "이름 :  홍길동\n"
     ]
    }
   ],
   "source": [
    "name = '홍길동'\n",
    "print('이름 : ', name)"
   ]
  },
  {
   "cell_type": "code",
   "execution_count": 2,
   "id": "ce53e712",
   "metadata": {
    "ExecuteTime": {
     "end_time": "2021-05-24T08:25:51.843358Z",
     "start_time": "2021-05-24T08:25:51.838378Z"
    }
   },
   "outputs": [
    {
     "name": "stdout",
     "output_type": "stream",
     "text": [
      "안녕! 나는  홍길동 이야. 나는 나이가  27 살이야.\n"
     ]
    }
   ],
   "source": [
    "age = '27'\n",
    "print('안녕! 나는 ', name, '이야. 나는 나이가 ', age, '살이야.')"
   ]
  },
  {
   "cell_type": "code",
   "execution_count": 3,
   "id": "3963166c",
   "metadata": {
    "ExecuteTime": {
     "end_time": "2021-05-24T08:25:52.911815Z",
     "start_time": "2021-05-24T08:25:52.907815Z"
    }
   },
   "outputs": [
    {
     "name": "stdout",
     "output_type": "stream",
     "text": [
      "안녕! 나는 %s이야. 나는 나이가 %d살이야.\n"
     ]
    }
   ],
   "source": [
    "age = '27'\n",
    "print('안녕! 나는 %s이야. 나는 나이가 %d살이야.'.format(name,age))"
   ]
  },
  {
   "cell_type": "code",
   "execution_count": 4,
   "id": "30e655de",
   "metadata": {
    "ExecuteTime": {
     "end_time": "2021-05-24T08:25:53.364217Z",
     "start_time": "2021-05-24T08:25:53.359203Z"
    }
   },
   "outputs": [
    {
     "name": "stdout",
     "output_type": "stream",
     "text": [
      "안녕! 나는 홍길동이야. 나는 나이가 27살이야.\n"
     ]
    }
   ],
   "source": [
    "age = '27'\n",
    "print(f'안녕! 나는 {name}이야. 나는 나이가 {age}살이야.')"
   ]
  },
  {
   "cell_type": "code",
   "execution_count": 5,
   "id": "8349e165",
   "metadata": {
    "ExecuteTime": {
     "end_time": "2021-05-24T08:25:53.950412Z",
     "start_time": "2021-05-24T08:25:53.945415Z"
    },
    "scrolled": true
   },
   "outputs": [
    {
     "name": "stdout",
     "output_type": "stream",
     "text": [
      "안녕! 나는 홍길동이야. 나는 나이가 27살이야.\n"
     ]
    }
   ],
   "source": [
    "print('안녕! 나는 {0}이야. 나는 나이가 {1}살이야.'.format(name,age))"
   ]
  },
  {
   "cell_type": "code",
   "execution_count": 23,
   "id": "23daf43f",
   "metadata": {
    "ExecuteTime": {
     "end_time": "2021-05-24T08:32:58.018765Z",
     "start_time": "2021-05-24T08:32:57.943808Z"
    }
   },
   "outputs": [
    {
     "ename": "TypeError",
     "evalue": "ord() expected a character, but string of length 3 found",
     "output_type": "error",
     "traceback": [
      "\u001b[1;31m---------------------------------------------------------------------------\u001b[0m",
      "\u001b[1;31mTypeError\u001b[0m                                 Traceback (most recent call last)",
      "\u001b[1;32m<ipython-input-23-19f29201e81f>\u001b[0m in \u001b[0;36m<module>\u001b[1;34m\u001b[0m\n\u001b[1;32m----> 1\u001b[1;33m \u001b[0mord\u001b[0m\u001b[1;33m(\u001b[0m\u001b[1;34m'177'\u001b[0m\u001b[1;33m)\u001b[0m\u001b[1;33m\u001b[0m\u001b[1;33m\u001b[0m\u001b[0m\n\u001b[0m",
      "\u001b[1;31mTypeError\u001b[0m: ord() expected a character, but string of length 3 found"
     ]
    }
   ],
   "source": [
    "ord('177')"
   ]
  },
  {
   "cell_type": "code",
   "execution_count": 24,
   "id": "99f54c8e",
   "metadata": {
    "ExecuteTime": {
     "end_time": "2021-05-24T08:33:18.893731Z",
     "start_time": "2021-05-24T08:33:18.889734Z"
    }
   },
   "outputs": [],
   "source": [
    "a='177'"
   ]
  },
  {
   "cell_type": "code",
   "execution_count": 25,
   "id": "cec2a3ca",
   "metadata": {
    "ExecuteTime": {
     "end_time": "2021-05-24T08:33:27.254118Z",
     "start_time": "2021-05-24T08:33:27.244141Z"
    }
   },
   "outputs": [
    {
     "ename": "TypeError",
     "evalue": "ord() expected a character, but string of length 3 found",
     "output_type": "error",
     "traceback": [
      "\u001b[1;31m---------------------------------------------------------------------------\u001b[0m",
      "\u001b[1;31mTypeError\u001b[0m                                 Traceback (most recent call last)",
      "\u001b[1;32m<ipython-input-25-a5abd646a6a9>\u001b[0m in \u001b[0;36m<module>\u001b[1;34m\u001b[0m\n\u001b[1;32m----> 1\u001b[1;33m \u001b[0mord\u001b[0m\u001b[1;33m(\u001b[0m\u001b[0ma\u001b[0m\u001b[1;33m)\u001b[0m\u001b[1;33m\u001b[0m\u001b[1;33m\u001b[0m\u001b[0m\n\u001b[0m",
      "\u001b[1;31mTypeError\u001b[0m: ord() expected a character, but string of length 3 found"
     ]
    }
   ],
   "source": [
    "ord(a)"
   ]
  },
  {
   "cell_type": "code",
   "execution_count": null,
   "id": "953a42d0",
   "metadata": {},
   "outputs": [],
   "source": []
  },
  {
   "cell_type": "code",
   "execution_count": null,
   "id": "c13c67a9",
   "metadata": {},
   "outputs": [],
   "source": []
  }
 ],
 "metadata": {
  "kernelspec": {
   "display_name": "Python 3",
   "language": "python",
   "name": "python3"
  },
  "language_info": {
   "codemirror_mode": {
    "name": "ipython",
    "version": 3
   },
   "file_extension": ".py",
   "mimetype": "text/x-python",
   "name": "python",
   "nbconvert_exporter": "python",
   "pygments_lexer": "ipython3",
   "version": "3.7.9"
  },
  "toc": {
   "base_numbering": 1,
   "nav_menu": {},
   "number_sections": true,
   "sideBar": true,
   "skip_h1_title": false,
   "title_cell": "Table of Contents",
   "title_sidebar": "Contents",
   "toc_cell": false,
   "toc_position": {},
   "toc_section_display": true,
   "toc_window_display": false
  },
  "varInspector": {
   "cols": {
    "lenName": 16,
    "lenType": 16,
    "lenVar": 40
   },
   "kernels_config": {
    "python": {
     "delete_cmd_postfix": "",
     "delete_cmd_prefix": "del ",
     "library": "var_list.py",
     "varRefreshCmd": "print(var_dic_list())"
    },
    "r": {
     "delete_cmd_postfix": ") ",
     "delete_cmd_prefix": "rm(",
     "library": "var_list.r",
     "varRefreshCmd": "cat(var_dic_list()) "
    }
   },
   "types_to_exclude": [
    "module",
    "function",
    "builtin_function_or_method",
    "instance",
    "_Feature"
   ],
   "window_display": false
  }
 },
 "nbformat": 4,
 "nbformat_minor": 5
}
