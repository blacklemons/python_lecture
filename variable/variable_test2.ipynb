{
 "cells": [
  {
   "cell_type": "code",
   "execution_count": 1,
   "id": "0866aace",
   "metadata": {
    "ExecuteTime": {
     "end_time": "2021-05-25T00:39:25.378515Z",
     "start_time": "2021-05-25T00:39:25.373516Z"
    }
   },
   "outputs": [],
   "source": [
    "a = True\n",
    "b = False"
   ]
  },
  {
   "cell_type": "code",
   "execution_count": 2,
   "id": "f4730d87",
   "metadata": {
    "ExecuteTime": {
     "end_time": "2021-05-25T00:39:26.707168Z",
     "start_time": "2021-05-25T00:39:26.702169Z"
    }
   },
   "outputs": [
    {
     "name": "stdout",
     "output_type": "stream",
     "text": [
      "<class 'bool'>\n"
     ]
    }
   ],
   "source": [
    "print(type(a))"
   ]
  },
  {
   "cell_type": "code",
   "execution_count": 3,
   "id": "d48397da",
   "metadata": {
    "ExecuteTime": {
     "end_time": "2021-05-25T00:39:44.800880Z",
     "start_time": "2021-05-25T00:39:44.787889Z"
    }
   },
   "outputs": [
    {
     "data": {
      "text/plain": [
       "True"
      ]
     },
     "execution_count": 3,
     "metadata": {},
     "output_type": "execute_result"
    }
   ],
   "source": [
    "a == 1"
   ]
  },
  {
   "cell_type": "code",
   "execution_count": 4,
   "id": "1800eb48",
   "metadata": {
    "ExecuteTime": {
     "end_time": "2021-05-25T00:39:52.931258Z",
     "start_time": "2021-05-25T00:39:52.924265Z"
    }
   },
   "outputs": [
    {
     "data": {
      "text/plain": [
       "False"
      ]
     },
     "execution_count": 4,
     "metadata": {},
     "output_type": "execute_result"
    }
   ],
   "source": [
    "a == 2"
   ]
  },
  {
   "cell_type": "code",
   "execution_count": 5,
   "id": "a97153b2",
   "metadata": {
    "ExecuteTime": {
     "end_time": "2021-05-25T00:42:06.647277Z",
     "start_time": "2021-05-25T00:42:06.642279Z"
    }
   },
   "outputs": [
    {
     "name": "stdout",
     "output_type": "stream",
     "text": [
      "True\n"
     ]
    }
   ],
   "source": [
    "if 2:\n",
    "    print(a)"
   ]
  },
  {
   "cell_type": "code",
   "execution_count": 6,
   "id": "df0eae3c",
   "metadata": {
    "ExecuteTime": {
     "end_time": "2021-05-25T00:42:20.488863Z",
     "start_time": "2021-05-25T00:42:20.484865Z"
    }
   },
   "outputs": [
    {
     "name": "stdout",
     "output_type": "stream",
     "text": [
      "False\n"
     ]
    }
   ],
   "source": [
    "if 2:\n",
    "    print(b)"
   ]
  },
  {
   "cell_type": "code",
   "execution_count": 7,
   "id": "0978b9f1",
   "metadata": {
    "ExecuteTime": {
     "end_time": "2021-05-25T00:43:53.029397Z",
     "start_time": "2021-05-25T00:43:53.023399Z"
    }
   },
   "outputs": [
    {
     "data": {
      "text/plain": [
       "True"
      ]
     },
     "execution_count": 7,
     "metadata": {},
     "output_type": "execute_result"
    }
   ],
   "source": [
    "bool(2)"
   ]
  },
  {
   "cell_type": "code",
   "execution_count": 8,
   "id": "6a1ae1a9",
   "metadata": {
    "ExecuteTime": {
     "end_time": "2021-05-25T00:44:02.131169Z",
     "start_time": "2021-05-25T00:44:02.124188Z"
    }
   },
   "outputs": [
    {
     "data": {
      "text/plain": [
       "False"
      ]
     },
     "execution_count": 8,
     "metadata": {},
     "output_type": "execute_result"
    }
   ],
   "source": [
    "2==True"
   ]
  },
  {
   "cell_type": "code",
   "execution_count": 9,
   "id": "6ab64a20",
   "metadata": {
    "ExecuteTime": {
     "end_time": "2021-05-25T00:44:46.716877Z",
     "start_time": "2021-05-25T00:44:46.710880Z"
    }
   },
   "outputs": [
    {
     "data": {
      "text/plain": [
       "True"
      ]
     },
     "execution_count": 9,
     "metadata": {},
     "output_type": "execute_result"
    }
   ],
   "source": [
    "bool(-1)"
   ]
  },
  {
   "cell_type": "code",
   "execution_count": 10,
   "id": "843d4dc1",
   "metadata": {
    "ExecuteTime": {
     "end_time": "2021-05-25T00:44:54.717015Z",
     "start_time": "2021-05-25T00:44:54.711015Z"
    }
   },
   "outputs": [
    {
     "data": {
      "text/plain": [
       "False"
      ]
     },
     "execution_count": 10,
     "metadata": {},
     "output_type": "execute_result"
    }
   ],
   "source": [
    "bool(None)"
   ]
  },
  {
   "cell_type": "code",
   "execution_count": null,
   "id": "e4c00211",
   "metadata": {},
   "outputs": [],
   "source": []
  }
 ],
 "metadata": {
  "kernelspec": {
   "display_name": "Python 3",
   "language": "python",
   "name": "python3"
  },
  "language_info": {
   "codemirror_mode": {
    "name": "ipython",
    "version": 3
   },
   "file_extension": ".py",
   "mimetype": "text/x-python",
   "name": "python",
   "nbconvert_exporter": "python",
   "pygments_lexer": "ipython3",
   "version": "3.7.9"
  },
  "toc": {
   "base_numbering": 1,
   "nav_menu": {},
   "number_sections": true,
   "sideBar": true,
   "skip_h1_title": false,
   "title_cell": "Table of Contents",
   "title_sidebar": "Contents",
   "toc_cell": false,
   "toc_position": {},
   "toc_section_display": true,
   "toc_window_display": false
  },
  "varInspector": {
   "cols": {
    "lenName": 16,
    "lenType": 16,
    "lenVar": 40
   },
   "kernels_config": {
    "python": {
     "delete_cmd_postfix": "",
     "delete_cmd_prefix": "del ",
     "library": "var_list.py",
     "varRefreshCmd": "print(var_dic_list())"
    },
    "r": {
     "delete_cmd_postfix": ") ",
     "delete_cmd_prefix": "rm(",
     "library": "var_list.r",
     "varRefreshCmd": "cat(var_dic_list()) "
    }
   },
   "types_to_exclude": [
    "module",
    "function",
    "builtin_function_or_method",
    "instance",
    "_Feature"
   ],
   "window_display": false
  }
 },
 "nbformat": 4,
 "nbformat_minor": 5
}
